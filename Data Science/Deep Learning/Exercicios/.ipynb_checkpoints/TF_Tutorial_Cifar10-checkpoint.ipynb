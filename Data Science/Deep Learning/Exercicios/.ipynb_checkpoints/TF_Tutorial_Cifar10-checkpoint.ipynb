{
 "cells": [
  {
   "cell_type": "markdown",
   "metadata": {},
   "source": [
    "# CIFAR 10 Dataset"
   ]
  },
  {
   "cell_type": "code",
   "execution_count": 1,
   "metadata": {},
   "outputs": [
    {
     "name": "stderr",
     "output_type": "stream",
     "text": [
      "/home/wedeueis/anaconda3/lib/python3.6/site-packages/h5py/__init__.py:36: FutureWarning: Conversion of the second argument of issubdtype from `float` to `np.floating` is deprecated. In future, it will be treated as `np.float64 == np.dtype(float).type`.\n",
      "  from ._conv import register_converters as _register_converters\n"
     ]
    }
   ],
   "source": [
    "import tensorflow as tf\n",
    "import prettytensor as pt\n",
    "import numpy as np\n",
    "from sklearn.metrics import confusion_matrix\n",
    "import math\n",
    "import os\n",
    "import time\n",
    "from datetime import timedelta\n",
    "import matplotlib.pyplot as plt\n",
    "\n",
    "%matplotlib inline"
   ]
  },
  {
   "cell_type": "code",
   "execution_count": 2,
   "metadata": {},
   "outputs": [
    {
     "name": "stdout",
     "output_type": "stream",
     "text": [
      "Data has apparently already been downloaded and unpacked.\n",
      "Loading data: data/CIFAR-10/cifar-10-batches-py/batches.meta\n",
      "Loading data: data/CIFAR-10/cifar-10-batches-py/data_batch_1\n",
      "Loading data: data/CIFAR-10/cifar-10-batches-py/data_batch_2\n",
      "Loading data: data/CIFAR-10/cifar-10-batches-py/data_batch_3\n",
      "Loading data: data/CIFAR-10/cifar-10-batches-py/data_batch_4\n",
      "Loading data: data/CIFAR-10/cifar-10-batches-py/data_batch_5\n",
      "Loading data: data/CIFAR-10/cifar-10-batches-py/test_batch\n",
      "Size of:\n",
      "- Training-set:\t\t50000\n",
      "- Test-set:\t\t10000\n"
     ]
    }
   ],
   "source": [
    "import cifar10\n",
    "cifar10.maybe_download_and_extract()\n",
    "class_names = cifar10.load_class_names()\n",
    "class_names\n",
    "\n",
    "images_train, cls_train, labels_train = cifar10.load_training_data()\n",
    "images_test, cls_test, labels_test = cifar10.load_test_data()\n",
    "\n",
    "print(\"Size of:\")\n",
    "print(\"- Training-set:\\t\\t{}\".format(len(images_train)))\n",
    "print(\"- Test-set:\\t\\t{}\".format(len(images_test)))"
   ]
  },
  {
   "cell_type": "code",
   "execution_count": 3,
   "metadata": {},
   "outputs": [],
   "source": [
    "from cifar10 import img_size, num_channels, num_classes"
   ]
  },
  {
   "cell_type": "code",
   "execution_count": 4,
   "metadata": {},
   "outputs": [],
   "source": [
    "import helper_plot\n",
    "from helper_plot import plot_images\n",
    "from helper_plot import plot_example_errors\n",
    "from helper_plot import plot_confusion_matrix"
   ]
  },
  {
   "cell_type": "code",
   "execution_count": 5,
   "metadata": {},
   "outputs": [
    {
     "name": "stdout",
     "output_type": "stream",
     "text": [
      "WARNING:tensorflow:From <ipython-input-5-f942cb478ca5>:3: calling argmax (from tensorflow.python.ops.math_ops) with dimension is deprecated and will be removed in a future version.\n",
      "Instructions for updating:\n",
      "Use the `axis` argument instead\n"
     ]
    }
   ],
   "source": [
    "x = tf.placeholder(tf.float32, shape=[None, img_size, img_size, num_channels], name='x')\n",
    "y_true = tf.placeholder(tf.float32, shape=[None, num_classes], name='y_true')\n",
    "y_true_cls = tf.argmax(y_true, dimension=1)"
   ]
  },
  {
   "cell_type": "code",
   "execution_count": 6,
   "metadata": {},
   "outputs": [],
   "source": [
    "import preprocess\n",
    "from preprocess import pre_process"
   ]
  },
  {
   "cell_type": "code",
   "execution_count": 7,
   "metadata": {},
   "outputs": [],
   "source": [
    "def main_network(images, training):\n",
    "    x_pretty = pt.wrap(images)\n",
    "    if training:\n",
    "        phase = pt.Phase.train\n",
    "    else:\n",
    "        phase = pt.Phase.infer\n",
    "        \n",
    "    with pt.defaults_scope(activation_fn=tf.nn.relu, phase=phase):\n",
    "        y_pred, loss = x_pretty.\\\n",
    "            conv2d(kernel=5, depth=64, name='layer_conv1', batch_normalize=True).\\\n",
    "            max_pool(kernel=2, stride=2).\\\n",
    "            conv2d(kernel=5, depth=64, name='layer_conv2').\\\n",
    "            max_pool(kernel=2, stride=2).\\\n",
    "            flatten().\\\n",
    "            fully_connected(size=256, name='layer_fc1').\\\n",
    "            fully_connected(size=128, name='layer_fc2').\\\n",
    "            softmax_classifier(num_classes=num_classes, labels=y_true)\n",
    "\n",
    "    return y_pred, loss"
   ]
  },
  {
   "cell_type": "code",
   "execution_count": 8,
   "metadata": {},
   "outputs": [],
   "source": [
    "def create_network(training):\n",
    "    with tf.variable_scope('network', reuse=not training):\n",
    "        images = x\n",
    "\n",
    "        images = pre_process(images=images, training=training)\n",
    "\n",
    "        y_pred, loss = main_network(images=images, training=training)\n",
    "\n",
    "    return y_pred, loss"
   ]
  },
  {
   "cell_type": "code",
   "execution_count": 9,
   "metadata": {},
   "outputs": [],
   "source": [
    "global_step = tf.Variable(initial_value=0,\n",
    "                          name='global_step', trainable=False)\n",
    "\n",
    "_, loss = create_network(training=True)\n",
    "optimizer = tf.train.AdamOptimizer(learning_rate=1e-4).minimize(loss, global_step=global_step)"
   ]
  },
  {
   "cell_type": "code",
   "execution_count": 10,
   "metadata": {},
   "outputs": [],
   "source": [
    "y_pred, _ = create_network(training=False)\n",
    "y_pred_cls = tf.argmax(y_pred, dimension=1)\n",
    "correct_prediction = tf.equal(y_pred_cls, y_true_cls)\n",
    "accuracy = tf.reduce_mean(tf.cast(correct_prediction, tf.float32))"
   ]
  },
  {
   "cell_type": "code",
   "execution_count": 11,
   "metadata": {},
   "outputs": [],
   "source": [
    "def get_weights_variable(layer_name):\n",
    "    with tf.variable_scope(\"network/\" + layer_name, reuse=True):\n",
    "        variable = tf.get_variable('weights')\n",
    "\n",
    "    return variable\n",
    "\n",
    "weights_conv1 = get_weights_variable(layer_name='layer_conv1')\n",
    "weights_conv2 = get_weights_variable(layer_name='layer_conv2')"
   ]
  },
  {
   "cell_type": "code",
   "execution_count": 12,
   "metadata": {},
   "outputs": [],
   "source": [
    "def get_layer_output(layer_name):\n",
    "    tensor_name = \"network/\" + layer_name + \"/Relu:0\"\n",
    "\n",
    "    tensor = tf.get_default_graph().get_tensor_by_name(tensor_name)\n",
    "\n",
    "    return tensor\n",
    "\n",
    "output_conv1 = get_layer_output(layer_name='layer_conv1')\n",
    "output_conv2 = get_layer_output(layer_name='layer_conv2')"
   ]
  },
  {
   "cell_type": "code",
   "execution_count": 13,
   "metadata": {},
   "outputs": [
    {
     "name": "stdout",
     "output_type": "stream",
     "text": [
      "Trying to restore last checkpoint ...\n",
      "INFO:tensorflow:Restoring parameters from checkpoints/cifar10_cnn-4000\n",
      "Restored checkpoint from: checkpoints/cifar10_cnn-4000\n"
     ]
    }
   ],
   "source": [
    "session = tf.Session()\n",
    "\n",
    "saver = tf.train.Saver()\n",
    "save_dir = 'checkpoints/'\n",
    "\n",
    "if not os.path.exists(save_dir):\n",
    "    os.makedirs(save_dir)\n",
    "    \n",
    "save_path = os.path.join(save_dir, 'cifar10_cnn')\n",
    "\n",
    "try:\n",
    "    print(\"Trying to restore last checkpoint ...\")\n",
    "    last_chk_path = tf.train.latest_checkpoint(checkpoint_dir=save_dir)\n",
    "    saver.restore(session, save_path=last_chk_path)\n",
    "    print(\"Restored checkpoint from:\", last_chk_path)\n",
    "except:\n",
    "    print(\"Failed to restore checkpoint. Initializing variables instead.\")\n",
    "    session.run(tf.global_variables_initializer())"
   ]
  },
  {
   "cell_type": "code",
   "execution_count": 14,
   "metadata": {},
   "outputs": [],
   "source": [
    "train_batch_size = 64\n",
    "\n",
    "def random_batch():\n",
    "    num_images = len(images_train)\n",
    "\n",
    "    idx = np.random.choice(num_images,\n",
    "                           size=train_batch_size,\n",
    "                           replace=False)\n",
    "\n",
    "    x_batch = images_train[idx, :, :, :]\n",
    "    y_batch = labels_train[idx, :]\n",
    "\n",
    "    return x_batch, y_batch"
   ]
  },
  {
   "cell_type": "code",
   "execution_count": 15,
   "metadata": {},
   "outputs": [],
   "source": [
    "def optimize(num_iterations):\n",
    "    start_time = time.time()\n",
    "\n",
    "    for i in range(num_iterations):\n",
    "        x_batch, y_true_batch = random_batch()\n",
    "\n",
    "        feed_dict_train = {x: x_batch, y_true: y_true_batch}\n",
    "\n",
    "        i_global, _ = session.run([global_step, optimizer],\n",
    "                                  feed_dict=feed_dict_train)\n",
    "        \n",
    "        if (i_global % 100 == 0) or (i == num_iterations - 1):\n",
    "            batch_acc = session.run(accuracy,\n",
    "                                    feed_dict=feed_dict_train)\n",
    "\n",
    "            msg = \"Global Step: {0:>6}, Training Batch Accuracy: {1:>6.1%}\"\n",
    "            print(msg.format(i_global, batch_acc))\n",
    "\n",
    "        if (i_global % 1000 == 0) or (i == num_iterations - 1):\n",
    "            saver.save(session,\n",
    "                       save_path=save_path,\n",
    "                       global_step=global_step)\n",
    "\n",
    "            print(\"Saved checkpoint.\")\n",
    "\n",
    "    end_time = time.time()\n",
    "    time_dif = end_time - start_time\n",
    "\n",
    "    print(\"Time usage: \" + str(timedelta(seconds=int(round(time_dif)))))"
   ]
  },
  {
   "cell_type": "code",
   "execution_count": 16,
   "metadata": {},
   "outputs": [],
   "source": [
    "batch_size = 64\n",
    "\n",
    "def predict_cls(images, labels, cls_true):\n",
    "    num_images = len(images)\n",
    "\n",
    "    cls_pred = np.zeros(shape=num_images, dtype=np.int)\n",
    "\n",
    "    i = 0\n",
    "\n",
    "    while i < num_images:\n",
    "        j = min(i + batch_size, num_images)\n",
    "\n",
    "        feed_dict = {x: images[i:j, :],\n",
    "                     y_true: labels[i:j, :]}\n",
    "\n",
    "        cls_pred[i:j] = session.run(y_pred_cls, feed_dict=feed_dict)\n",
    "\n",
    "        i = j\n",
    "\n",
    "    correct = (cls_true == cls_pred)\n",
    "\n",
    "    return correct, cls_pred\n",
    "\n",
    "def predict_cls_test():\n",
    "    return predict_cls(images = images_test,\n",
    "                       labels = labels_test,\n",
    "                       cls_true = cls_test)"
   ]
  },
  {
   "cell_type": "code",
   "execution_count": 17,
   "metadata": {},
   "outputs": [],
   "source": [
    "def classification_accuracy(correct):\n",
    "    return correct.mean(), correct.sum()\n",
    "\n",
    "def print_test_accuracy():\n",
    "\n",
    "    correct, cls_pred = predict_cls_test()\n",
    "\n",
    "    acc, num_correct = classification_accuracy(correct)\n",
    "\n",
    "    num_images = len(correct)\n",
    "\n",
    "    msg = \"Accuracy on Test-Set: {0:.1%} ({1} / {2})\"\n",
    "    print(msg.format(acc, num_correct, num_images))\n",
    "\n"
   ]
  },
  {
   "cell_type": "code",
   "execution_count": 18,
   "metadata": {},
   "outputs": [
    {
     "name": "stdout",
     "output_type": "stream",
     "text": [
      "Global Step:   4100, Training Batch Accuracy:  45.3%\n",
      "Global Step:   4200, Training Batch Accuracy:  51.6%\n",
      "Global Step:   4300, Training Batch Accuracy:  53.1%\n",
      "Global Step:   4400, Training Batch Accuracy:  50.0%\n",
      "Global Step:   4500, Training Batch Accuracy:  45.3%\n",
      "Global Step:   4600, Training Batch Accuracy:  60.9%\n",
      "Global Step:   4700, Training Batch Accuracy:  56.2%\n",
      "Global Step:   4800, Training Batch Accuracy:  53.1%\n",
      "Global Step:   4900, Training Batch Accuracy:  54.7%\n",
      "Global Step:   5000, Training Batch Accuracy:  62.5%\n",
      "Saved checkpoint.\n",
      "Global Step:   5100, Training Batch Accuracy:  56.2%\n",
      "Global Step:   5200, Training Batch Accuracy:  53.1%\n",
      "Global Step:   5300, Training Batch Accuracy:  60.9%\n",
      "Global Step:   5400, Training Batch Accuracy:  50.0%\n",
      "Global Step:   5500, Training Batch Accuracy:  43.8%\n",
      "Global Step:   5600, Training Batch Accuracy:  62.5%\n",
      "Global Step:   5700, Training Batch Accuracy:  59.4%\n",
      "Global Step:   5800, Training Batch Accuracy:  42.2%\n",
      "Global Step:   5900, Training Batch Accuracy:  59.4%\n",
      "Global Step:   6000, Training Batch Accuracy:  51.6%\n",
      "Saved checkpoint.\n",
      "Global Step:   6100, Training Batch Accuracy:  56.2%\n",
      "Global Step:   6200, Training Batch Accuracy:  62.5%\n",
      "Global Step:   6300, Training Batch Accuracy:  56.2%\n",
      "Global Step:   6400, Training Batch Accuracy:  62.5%\n",
      "Global Step:   6500, Training Batch Accuracy:  54.7%\n",
      "Global Step:   6600, Training Batch Accuracy:  48.4%\n",
      "Global Step:   6700, Training Batch Accuracy:  53.1%\n",
      "Global Step:   6800, Training Batch Accuracy:  56.2%\n",
      "Global Step:   6900, Training Batch Accuracy:  42.2%\n",
      "Global Step:   7000, Training Batch Accuracy:  51.6%\n",
      "Saved checkpoint.\n",
      "Global Step:   7100, Training Batch Accuracy:  59.4%\n",
      "Global Step:   7200, Training Batch Accuracy:  54.7%\n",
      "Global Step:   7300, Training Batch Accuracy:  60.9%\n",
      "Global Step:   7400, Training Batch Accuracy:  67.2%\n",
      "Global Step:   7500, Training Batch Accuracy:  65.6%\n",
      "Global Step:   7600, Training Batch Accuracy:  65.6%\n",
      "Global Step:   7700, Training Batch Accuracy:  51.6%\n",
      "Global Step:   7800, Training Batch Accuracy:  60.9%\n",
      "Global Step:   7900, Training Batch Accuracy:  54.7%\n",
      "Global Step:   8000, Training Batch Accuracy:  56.2%\n",
      "Saved checkpoint.\n",
      "Global Step:   8100, Training Batch Accuracy:  64.1%\n",
      "Global Step:   8200, Training Batch Accuracy:  60.9%\n",
      "Global Step:   8300, Training Batch Accuracy:  65.6%\n",
      "Global Step:   8400, Training Batch Accuracy:  62.5%\n",
      "Global Step:   8500, Training Batch Accuracy:  65.6%\n",
      "Global Step:   8600, Training Batch Accuracy:  54.7%\n",
      "Global Step:   8700, Training Batch Accuracy:  62.5%\n",
      "Global Step:   8800, Training Batch Accuracy:  64.1%\n",
      "Global Step:   8900, Training Batch Accuracy:  59.4%\n",
      "Global Step:   9000, Training Batch Accuracy:  60.9%\n",
      "Saved checkpoint.\n",
      "Global Step:   9100, Training Batch Accuracy:  71.9%\n",
      "Global Step:   9200, Training Batch Accuracy:  56.2%\n",
      "Global Step:   9300, Training Batch Accuracy:  71.9%\n",
      "Global Step:   9400, Training Batch Accuracy:  53.1%\n",
      "Global Step:   9500, Training Batch Accuracy:  57.8%\n",
      "Global Step:   9600, Training Batch Accuracy:  62.5%\n",
      "Global Step:   9700, Training Batch Accuracy:  71.9%\n",
      "Global Step:   9800, Training Batch Accuracy:  64.1%\n",
      "Global Step:   9900, Training Batch Accuracy:  54.7%\n",
      "Global Step:  10000, Training Batch Accuracy:  62.5%\n",
      "Saved checkpoint.\n",
      "Global Step:  10100, Training Batch Accuracy:  71.9%\n",
      "Global Step:  10200, Training Batch Accuracy:  68.8%\n",
      "Global Step:  10300, Training Batch Accuracy:  57.8%\n",
      "Global Step:  10400, Training Batch Accuracy:  65.6%\n",
      "Global Step:  10500, Training Batch Accuracy:  65.6%\n",
      "Global Step:  10600, Training Batch Accuracy:  73.4%\n",
      "Global Step:  10700, Training Batch Accuracy:  67.2%\n",
      "Global Step:  10800, Training Batch Accuracy:  60.9%\n",
      "Global Step:  10900, Training Batch Accuracy:  70.3%\n",
      "Global Step:  11000, Training Batch Accuracy:  75.0%\n",
      "Saved checkpoint.\n",
      "Global Step:  11100, Training Batch Accuracy:  64.1%\n",
      "Global Step:  11200, Training Batch Accuracy:  62.5%\n",
      "Global Step:  11300, Training Batch Accuracy:  59.4%\n",
      "Global Step:  11400, Training Batch Accuracy:  54.7%\n",
      "Global Step:  11500, Training Batch Accuracy:  68.8%\n",
      "Global Step:  11600, Training Batch Accuracy:  65.6%\n",
      "Global Step:  11700, Training Batch Accuracy:  62.5%\n",
      "Global Step:  11800, Training Batch Accuracy:  60.9%\n",
      "Global Step:  11900, Training Batch Accuracy:  62.5%\n",
      "Global Step:  12000, Training Batch Accuracy:  68.8%\n",
      "Saved checkpoint.\n",
      "Global Step:  12100, Training Batch Accuracy:  62.5%\n",
      "Global Step:  12200, Training Batch Accuracy:  75.0%\n",
      "Global Step:  12300, Training Batch Accuracy:  70.3%\n",
      "Global Step:  12400, Training Batch Accuracy:  62.5%\n",
      "Global Step:  12500, Training Batch Accuracy:  56.2%\n",
      "Global Step:  12600, Training Batch Accuracy:  60.9%\n",
      "Global Step:  12700, Training Batch Accuracy:  64.1%\n",
      "Global Step:  12800, Training Batch Accuracy:  75.0%\n",
      "Global Step:  12900, Training Batch Accuracy:  60.9%\n",
      "Global Step:  13000, Training Batch Accuracy:  68.8%\n",
      "Saved checkpoint.\n",
      "Global Step:  13100, Training Batch Accuracy:  67.2%\n",
      "Global Step:  13200, Training Batch Accuracy:  68.8%\n",
      "Global Step:  13300, Training Batch Accuracy:  78.1%\n",
      "Global Step:  13400, Training Batch Accuracy:  54.7%\n",
      "Global Step:  13500, Training Batch Accuracy:  62.5%\n",
      "Global Step:  13600, Training Batch Accuracy:  56.2%\n",
      "Global Step:  13700, Training Batch Accuracy:  68.8%\n",
      "Global Step:  13800, Training Batch Accuracy:  67.2%\n",
      "Global Step:  13900, Training Batch Accuracy:  68.8%\n",
      "Global Step:  14000, Training Batch Accuracy:  70.3%\n",
      "Saved checkpoint.\n",
      "Time usage: 0:19:52\n"
     ]
    }
   ],
   "source": [
    "optimize(num_iterations=100000)"
   ]
  },
  {
   "cell_type": "code",
   "execution_count": 19,
   "metadata": {},
   "outputs": [
    {
     "name": "stdout",
     "output_type": "stream",
     "text": [
      "Accuracy on Test-Set: 66.3% (6631 / 10000)\n",
      "Example errors:\n"
     ]
    },
    {
     "ename": "NameError",
     "evalue": "name 'cls_pred' is not defined",
     "output_type": "error",
     "traceback": [
      "\u001b[0;31m---------------------------------------------------------------------------\u001b[0m",
      "\u001b[0;31mNameError\u001b[0m                                 Traceback (most recent call last)",
      "\u001b[0;32m<ipython-input-19-913fcf01981f>\u001b[0m in \u001b[0;36m<module>\u001b[0;34m()\u001b[0m\n\u001b[1;32m      2\u001b[0m \u001b[0;34m\u001b[0m\u001b[0m\n\u001b[1;32m      3\u001b[0m \u001b[0mprint\u001b[0m\u001b[0;34m(\u001b[0m\u001b[0;34m\"Example errors:\"\u001b[0m\u001b[0;34m)\u001b[0m\u001b[0;34m\u001b[0m\u001b[0m\n\u001b[0;32m----> 4\u001b[0;31m \u001b[0mplot_example_errors\u001b[0m\u001b[0;34m(\u001b[0m\u001b[0mcls_pred\u001b[0m\u001b[0;34m=\u001b[0m\u001b[0mcls_pred\u001b[0m\u001b[0;34m,\u001b[0m \u001b[0mcorrect\u001b[0m\u001b[0;34m=\u001b[0m\u001b[0mcorrect\u001b[0m\u001b[0;34m)\u001b[0m\u001b[0;34m\u001b[0m\u001b[0m\n\u001b[0m\u001b[1;32m      5\u001b[0m \u001b[0;34m\u001b[0m\u001b[0m\n\u001b[1;32m      6\u001b[0m \u001b[0mprint\u001b[0m\u001b[0;34m(\u001b[0m\u001b[0;34m\"Confusion Matrix:\"\u001b[0m\u001b[0;34m)\u001b[0m\u001b[0;34m\u001b[0m\u001b[0m\n",
      "\u001b[0;31mNameError\u001b[0m: name 'cls_pred' is not defined"
     ]
    }
   ],
   "source": [
    "print_test_accuracy()\n",
    "\n",
    "print(\"Example errors:\")\n",
    "plot_example_errors(cls_pred=cls_pred, correct=correct)\n",
    "\n",
    "print(\"Confusion Matrix:\")\n",
    "plot_confusion_matrix(cls_pred=cls_pred)"
   ]
  },
  {
   "cell_type": "code",
   "execution_count": 22,
   "metadata": {},
   "outputs": [],
   "source": [
    "session.close()"
   ]
  },
  {
   "cell_type": "code",
   "execution_count": null,
   "metadata": {},
   "outputs": [],
   "source": []
  }
 ],
 "metadata": {
  "kernelspec": {
   "display_name": "Python 3",
   "language": "python",
   "name": "python3"
  },
  "language_info": {
   "codemirror_mode": {
    "name": "ipython",
    "version": 3
   },
   "file_extension": ".py",
   "mimetype": "text/x-python",
   "name": "python",
   "nbconvert_exporter": "python",
   "pygments_lexer": "ipython3",
   "version": "3.6.4"
  }
 },
 "nbformat": 4,
 "nbformat_minor": 2
}
